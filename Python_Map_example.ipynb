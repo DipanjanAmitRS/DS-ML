{
 "cells": [
  {
   "cell_type": "code",
   "execution_count": 2,
   "id": "aa079ff9",
   "metadata": {},
   "outputs": [
    {
     "data": {
      "text/plain": [
       "[1, 4, 9, 16, 25]"
      ]
     },
     "execution_count": 2,
     "metadata": {},
     "output_type": "execute_result"
    }
   ],
   "source": [
    "lst = [1, 2, 3, 4, 5]\n",
    "sqr = lambda n : n*n\n",
    "\n",
    "n_lst= map(sqr, lst)\n",
    "m= list(n_lst)\n",
    "m"
   ]
  },
  {
   "cell_type": "markdown",
   "id": "566885ad",
   "metadata": {},
   "source": [
    "Map example code:"
   ]
  },
  {
   "cell_type": "code",
   "execution_count": 3,
   "id": "61023b17",
   "metadata": {},
   "outputs": [
    {
     "name": "stdout",
     "output_type": "stream",
     "text": [
      "[1, 1]\n",
      "[4, 8]\n",
      "[9, 27]\n",
      "[16, 64]\n",
      "[25, 125]\n"
     ]
    }
   ],
   "source": [
    "def square(n):\n",
    "    return n*n\n",
    "\n",
    "def cube(n):\n",
    "    return n*n*n\n",
    "\n",
    "func_list = [square, cube]\n",
    "numbers = [1, 2, 3, 4, 5]\n",
    "\n",
    "for item in numbers:\n",
    "    var = list(map(lambda n : n(item), func_list))\n",
    "    print(var)"
   ]
  },
  {
   "cell_type": "code",
   "execution_count": null,
   "id": "0ecf30d5",
   "metadata": {},
   "outputs": [],
   "source": []
  }
 ],
 "metadata": {
  "kernelspec": {
   "display_name": "Python 3 (ipykernel)",
   "language": "python",
   "name": "python3"
  },
  "language_info": {
   "codemirror_mode": {
    "name": "ipython",
    "version": 3
   },
   "file_extension": ".py",
   "mimetype": "text/x-python",
   "name": "python",
   "nbconvert_exporter": "python",
   "pygments_lexer": "ipython3",
   "version": "3.10.8"
  }
 },
 "nbformat": 4,
 "nbformat_minor": 5
}
