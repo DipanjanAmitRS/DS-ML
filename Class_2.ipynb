{
 "cells": [
  {
   "cell_type": "code",
   "execution_count": 2,
   "id": "d88c56e3",
   "metadata": {},
   "outputs": [
    {
     "name": "stdout",
     "output_type": "stream",
     "text": [
      "60\n"
     ]
    }
   ],
   "source": [
    "a= 5\n",
    "b= 12\n",
    "print(a*b)"
   ]
  },
  {
   "cell_type": "code",
   "execution_count": 3,
   "id": "96ffea03",
   "metadata": {},
   "outputs": [
    {
     "data": {
      "text/plain": [
       "2.4"
      ]
     },
     "execution_count": 3,
     "metadata": {},
     "output_type": "execute_result"
    }
   ],
   "source": [
    "b/a   # Float division"
   ]
  },
  {
   "cell_type": "code",
   "execution_count": 4,
   "id": "461e9f74",
   "metadata": {},
   "outputs": [
    {
     "data": {
      "text/plain": [
       "2"
      ]
     },
     "execution_count": 4,
     "metadata": {},
     "output_type": "execute_result"
    }
   ],
   "source": [
    "b//a   # int division / floor division"
   ]
  },
  {
   "cell_type": "code",
   "execution_count": 5,
   "id": "ead2b235",
   "metadata": {},
   "outputs": [
    {
     "data": {
      "text/plain": [
       "2"
      ]
     },
     "execution_count": 5,
     "metadata": {},
     "output_type": "execute_result"
    }
   ],
   "source": [
    "b%a    # remainder"
   ]
  },
  {
   "cell_type": "code",
   "execution_count": 6,
   "id": "174a2935",
   "metadata": {},
   "outputs": [
    {
     "data": {
      "text/plain": [
       "25"
      ]
     },
     "execution_count": 6,
     "metadata": {},
     "output_type": "execute_result"
    }
   ],
   "source": [
    "a**2   #exponent / power"
   ]
  },
  {
   "cell_type": "markdown",
   "id": "77be14ca",
   "metadata": {},
   "source": [
    "## Comparison operators"
   ]
  },
  {
   "cell_type": "code",
   "execution_count": 7,
   "id": "5cb0bc97",
   "metadata": {},
   "outputs": [
    {
     "data": {
      "text/plain": [
       "False"
      ]
     },
     "execution_count": 7,
     "metadata": {},
     "output_type": "execute_result"
    }
   ],
   "source": [
    "a==b"
   ]
  },
  {
   "cell_type": "code",
   "execution_count": 8,
   "id": "af477c2b",
   "metadata": {},
   "outputs": [
    {
     "data": {
      "text/plain": [
       "True"
      ]
     },
     "execution_count": 8,
     "metadata": {},
     "output_type": "execute_result"
    }
   ],
   "source": [
    "a!=b"
   ]
  },
  {
   "cell_type": "code",
   "execution_count": 9,
   "id": "3ffa9d3b",
   "metadata": {},
   "outputs": [
    {
     "data": {
      "text/plain": [
       "False"
      ]
     },
     "execution_count": 9,
     "metadata": {},
     "output_type": "execute_result"
    }
   ],
   "source": [
    "a>b"
   ]
  },
  {
   "cell_type": "code",
   "execution_count": 10,
   "id": "a162fa30",
   "metadata": {},
   "outputs": [
    {
     "data": {
      "text/plain": [
       "True"
      ]
     },
     "execution_count": 10,
     "metadata": {},
     "output_type": "execute_result"
    }
   ],
   "source": [
    "a<b"
   ]
  },
  {
   "cell_type": "code",
   "execution_count": 11,
   "id": "2153052c",
   "metadata": {},
   "outputs": [
    {
     "data": {
      "text/plain": [
       "False"
      ]
     },
     "execution_count": 11,
     "metadata": {},
     "output_type": "execute_result"
    }
   ],
   "source": [
    "a>=b"
   ]
  },
  {
   "cell_type": "markdown",
   "id": "256255c3",
   "metadata": {},
   "source": [
    "## Logical Operators"
   ]
  },
  {
   "cell_type": "code",
   "execution_count": 12,
   "id": "5643c2f7",
   "metadata": {},
   "outputs": [],
   "source": [
    "x = 4\n",
    "y = 4\n",
    "z = 6"
   ]
  },
  {
   "cell_type": "code",
   "execution_count": 13,
   "id": "bfe14b3e",
   "metadata": {},
   "outputs": [
    {
     "data": {
      "text/plain": [
       "False"
      ]
     },
     "execution_count": 13,
     "metadata": {},
     "output_type": "execute_result"
    }
   ],
   "source": [
    "x == y and y == z"
   ]
  },
  {
   "cell_type": "code",
   "execution_count": 14,
   "id": "ca709aaa",
   "metadata": {},
   "outputs": [
    {
     "data": {
      "text/plain": [
       "True"
      ]
     },
     "execution_count": 14,
     "metadata": {},
     "output_type": "execute_result"
    }
   ],
   "source": [
    "x == y or y == z"
   ]
  },
  {
   "cell_type": "code",
   "execution_count": 15,
   "id": "7dd4b82f",
   "metadata": {},
   "outputs": [
    {
     "data": {
      "text/plain": [
       "False"
      ]
     },
     "execution_count": 15,
     "metadata": {},
     "output_type": "execute_result"
    }
   ],
   "source": [
    "not x == y"
   ]
  },
  {
   "cell_type": "markdown",
   "id": "b0a7afb5",
   "metadata": {},
   "source": [
    "## Membership Operator"
   ]
  },
  {
   "cell_type": "code",
   "execution_count": 16,
   "id": "5361999d",
   "metadata": {},
   "outputs": [
    {
     "data": {
      "text/plain": [
       "True"
      ]
     },
     "execution_count": 16,
     "metadata": {},
     "output_type": "execute_result"
    }
   ],
   "source": [
    "'desh' in 'Bangladesh'"
   ]
  },
  {
   "cell_type": "code",
   "execution_count": 17,
   "id": "a1fe07df",
   "metadata": {},
   "outputs": [
    {
     "data": {
      "text/plain": [
       "False"
      ]
     },
     "execution_count": 17,
     "metadata": {},
     "output_type": "execute_result"
    }
   ],
   "source": [
    "'dsh' in 'Bangladesh'"
   ]
  },
  {
   "cell_type": "markdown",
   "id": "36185677",
   "metadata": {},
   "source": [
    "## Identity operator"
   ]
  },
  {
   "cell_type": "code",
   "execution_count": 18,
   "id": "3ff38c5d",
   "metadata": {},
   "outputs": [
    {
     "data": {
      "text/plain": [
       "False"
      ]
     },
     "execution_count": 18,
     "metadata": {},
     "output_type": "execute_result"
    }
   ],
   "source": [
    "a is b"
   ]
  },
  {
   "cell_type": "markdown",
   "id": "93f89d7c",
   "metadata": {},
   "source": [
    "## Data Structures"
   ]
  },
  {
   "cell_type": "markdown",
   "id": "b908b16e",
   "metadata": {},
   "source": [
    "(i) List:"
   ]
  },
  {
   "cell_type": "code",
   "execution_count": 4,
   "id": "aea065e8",
   "metadata": {},
   "outputs": [],
   "source": [
    "list_1 = ['BUET', 'RUET', 'EWU', 'Brac']\n",
    "list_2 = [1, 2, 3, 4]"
   ]
  },
  {
   "cell_type": "code",
   "execution_count": 5,
   "id": "bf12271a",
   "metadata": {},
   "outputs": [
    {
     "data": {
      "text/plain": [
       "'RUET'"
      ]
     },
     "execution_count": 5,
     "metadata": {},
     "output_type": "execute_result"
    }
   ],
   "source": [
    "list_1[1]"
   ]
  },
  {
   "cell_type": "code",
   "execution_count": 6,
   "id": "3f5effb9",
   "metadata": {},
   "outputs": [
    {
     "data": {
      "text/plain": [
       "['BUET', 'RUET', 'EWU']"
      ]
     },
     "execution_count": 6,
     "metadata": {},
     "output_type": "execute_result"
    }
   ],
   "source": [
    "# Slicing lower:upper\n",
    "list_1[:3]"
   ]
  },
  {
   "cell_type": "code",
   "execution_count": 7,
   "id": "5167c2a7",
   "metadata": {},
   "outputs": [
    {
     "data": {
      "text/plain": [
       "['RUET', 'EWU', 'Brac']"
      ]
     },
     "execution_count": 7,
     "metadata": {},
     "output_type": "execute_result"
    }
   ],
   "source": [
    "list_1[1:]"
   ]
  },
  {
   "cell_type": "markdown",
   "id": "f7f74cb4",
   "metadata": {},
   "source": [
    "List methods:"
   ]
  },
  {
   "cell_type": "code",
   "execution_count": 8,
   "id": "e8155f62",
   "metadata": {},
   "outputs": [
    {
     "name": "stdout",
     "output_type": "stream",
     "text": [
      "['BUET', 'RUET', 'EWU', 'Brac', 'NSU']\n"
     ]
    }
   ],
   "source": [
    "# update list\n",
    "list_1.append('NSU')  #last a 'NSU' add hobe.\n",
    "print(list_1)"
   ]
  },
  {
   "cell_type": "code",
   "execution_count": 9,
   "id": "363ac956",
   "metadata": {},
   "outputs": [
    {
     "data": {
      "text/plain": [
       "['BUET', 'RUET', 'KUET', 'EWU', 'Brac', 'NSU']"
      ]
     },
     "execution_count": 9,
     "metadata": {},
     "output_type": "execute_result"
    }
   ],
   "source": [
    "list_1.insert(2, 'KUET')  # index 2 er por 'KUET' add hbe\n",
    "list_1"
   ]
  },
  {
   "cell_type": "code",
   "execution_count": 10,
   "id": "27eefe82",
   "metadata": {},
   "outputs": [
    {
     "data": {
      "text/plain": [
       "['BUET', 'RUET', 'KUET', 'EWU', 'Brac', 'NSU', 10, 20]"
      ]
     },
     "execution_count": 10,
     "metadata": {},
     "output_type": "execute_result"
    }
   ],
   "source": [
    "list_1.extend([10, 20])  # list_1 er sesh a [10, 20] list ti add hbe\n",
    "list_1"
   ]
  },
  {
   "cell_type": "code",
   "execution_count": 11,
   "id": "db71e052",
   "metadata": {},
   "outputs": [
    {
     "data": {
      "text/plain": [
       "['BUET', 'RUET', 'KUET', 'EWU', 'Brac', 'NSU', 10, 20, 1, 2, 3, 4]"
      ]
     },
     "execution_count": 11,
     "metadata": {},
     "output_type": "execute_result"
    }
   ],
   "source": [
    "list_1.extend(list_2)\n",
    "list_1"
   ]
  },
  {
   "cell_type": "code",
   "execution_count": 32,
   "id": "9b73970d",
   "metadata": {},
   "outputs": [
    {
     "data": {
      "text/plain": [
       "['BUET',\n",
       " 'RUET',\n",
       " 'KUET',\n",
       " 'EWU',\n",
       " 'Brac',\n",
       " 'NSU',\n",
       " 'NSU',\n",
       " 10,\n",
       " 20,\n",
       " 1,\n",
       " 2,\n",
       " 3,\n",
       " 4,\n",
       " 1,\n",
       " 2,\n",
       " 3,\n",
       " 4]"
      ]
     },
     "execution_count": 32,
     "metadata": {},
     "output_type": "execute_result"
    }
   ],
   "source": [
    "list_1 + list_2"
   ]
  },
  {
   "cell_type": "code",
   "execution_count": 33,
   "id": "82724f87",
   "metadata": {},
   "outputs": [
    {
     "data": {
      "text/plain": [
       "['BUET', 'RUET', 'KUET', 'EWU', 'Brac', 'NSU', 'NSU', 10, 20, 1, 2, 3, 4]"
      ]
     },
     "execution_count": 33,
     "metadata": {},
     "output_type": "execute_result"
    }
   ],
   "source": [
    "list_1"
   ]
  },
  {
   "cell_type": "code",
   "execution_count": 12,
   "id": "d2a05ad5",
   "metadata": {},
   "outputs": [
    {
     "data": {
      "text/plain": [
       "['BUET', 'RUET', 'KUET', 'EWU', 'Brac', 'NSU']"
      ]
     },
     "execution_count": 12,
     "metadata": {},
     "output_type": "execute_result"
    }
   ],
   "source": [
    "# Remove items\n",
    "del list_1[6:]  # index 6 theke last porjonto del hbe\n",
    "list_1"
   ]
  },
  {
   "cell_type": "code",
   "execution_count": 13,
   "id": "5bd28726",
   "metadata": {},
   "outputs": [
    {
     "data": {
      "text/plain": [
       "['BUET', 'RUET', 'KUET', 'EWU', 'Brac', 'NSU', 10]"
      ]
     },
     "execution_count": 13,
     "metadata": {},
     "output_type": "execute_result"
    }
   ],
   "source": [
    "list_1.append(10)\n",
    "list_1"
   ]
  },
  {
   "cell_type": "code",
   "execution_count": 14,
   "id": "a204a3e2",
   "metadata": {},
   "outputs": [
    {
     "data": {
      "text/plain": [
       "['BUET', 'RUET', 'KUET', 'EWU', 'Brac', 'NSU']"
      ]
     },
     "execution_count": 14,
     "metadata": {},
     "output_type": "execute_result"
    }
   ],
   "source": [
    "list_1.remove(10)  # list_1 theke 10 remove hbe\n",
    "list_1"
   ]
  },
  {
   "cell_type": "code",
   "execution_count": 15,
   "id": "f53231d2",
   "metadata": {},
   "outputs": [
    {
     "data": {
      "text/plain": [
       "['BUET', 'RUET', 'KUET', 'EWU', 'NSU']"
      ]
     },
     "execution_count": 15,
     "metadata": {},
     "output_type": "execute_result"
    }
   ],
   "source": [
    "del list_1[-2]\n",
    "list_1"
   ]
  },
  {
   "cell_type": "code",
   "execution_count": 16,
   "id": "d3298e43",
   "metadata": {},
   "outputs": [
    {
     "data": {
      "text/plain": [
       "'NSU'"
      ]
     },
     "execution_count": 16,
     "metadata": {},
     "output_type": "execute_result"
    }
   ],
   "source": [
    "list_1.pop()  # list_1 er last item pop hye return korbe and list theke del hbe"
   ]
  },
  {
   "cell_type": "code",
   "execution_count": 17,
   "id": "9563570c",
   "metadata": {},
   "outputs": [
    {
     "data": {
      "text/plain": [
       "['BUET', 'RUET', 'KUET', 'EWU']"
      ]
     },
     "execution_count": 17,
     "metadata": {},
     "output_type": "execute_result"
    }
   ],
   "source": [
    "list_1"
   ]
  },
  {
   "cell_type": "code",
   "execution_count": 18,
   "id": "d415c184",
   "metadata": {},
   "outputs": [
    {
     "data": {
      "text/plain": [
       "['BUET', 'RUET', 'KUET', 'EWU', 'RUET', 'RUET']"
      ]
     },
     "execution_count": 18,
     "metadata": {},
     "output_type": "execute_result"
    }
   ],
   "source": [
    "list_1 += ['RUET', 'RUET']\n",
    "list_1"
   ]
  },
  {
   "cell_type": "code",
   "execution_count": 19,
   "id": "3d266a42",
   "metadata": {},
   "outputs": [
    {
     "data": {
      "text/plain": [
       "3"
      ]
     },
     "execution_count": 19,
     "metadata": {},
     "output_type": "execute_result"
    }
   ],
   "source": [
    "list_1.count('RUET')  # 'RUET' kotobar ache count korbe"
   ]
  },
  {
   "cell_type": "code",
   "execution_count": 20,
   "id": "834559b1",
   "metadata": {},
   "outputs": [
    {
     "data": {
      "text/plain": [
       "['a', 'b', 'c', 'e']"
      ]
     },
     "execution_count": 20,
     "metadata": {},
     "output_type": "execute_result"
    }
   ],
   "source": [
    "list_3 = ['b', 'c', 'e', 'a']  # ascending order a sort hbe\n",
    "sorted(list_3)"
   ]
  },
  {
   "cell_type": "markdown",
   "id": "d02f59d1",
   "metadata": {},
   "source": [
    "(ii) Tuples:"
   ]
  },
  {
   "cell_type": "code",
   "execution_count": 1,
   "id": "e0da8da8",
   "metadata": {},
   "outputs": [],
   "source": [
    "tup = ('a', 'b', 'c', 'd')"
   ]
  },
  {
   "cell_type": "code",
   "execution_count": 21,
   "id": "b19019f0",
   "metadata": {},
   "outputs": [
    {
     "data": {
      "text/plain": [
       "(list, tuple)"
      ]
     },
     "execution_count": 21,
     "metadata": {},
     "output_type": "execute_result"
    }
   ],
   "source": [
    "type(list_1), type(tup)"
   ]
  },
  {
   "cell_type": "code",
   "execution_count": 22,
   "id": "dfdaba67",
   "metadata": {},
   "outputs": [
    {
     "data": {
      "text/plain": [
       "'BUET'"
      ]
     },
     "execution_count": 22,
     "metadata": {},
     "output_type": "execute_result"
    }
   ],
   "source": [
    "list_1[0]"
   ]
  },
  {
   "cell_type": "code",
   "execution_count": 23,
   "id": "10e6213d",
   "metadata": {},
   "outputs": [
    {
     "data": {
      "text/plain": [
       "['DU', 'RUET', 'KUET', 'EWU', 'RUET', 'RUET']"
      ]
     },
     "execution_count": 23,
     "metadata": {},
     "output_type": "execute_result"
    }
   ],
   "source": [
    "list_1[0]= 'DU'\n",
    "list_1"
   ]
  },
  {
   "cell_type": "code",
   "execution_count": 24,
   "id": "82986f9e",
   "metadata": {},
   "outputs": [
    {
     "ename": "TypeError",
     "evalue": "'tuple' object does not support item assignment",
     "output_type": "error",
     "traceback": [
      "\u001b[1;31m---------------------------------------------------------------------------\u001b[0m",
      "\u001b[1;31mTypeError\u001b[0m                                 Traceback (most recent call last)",
      "Cell \u001b[1;32mIn[24], line 1\u001b[0m\n\u001b[1;32m----> 1\u001b[0m \u001b[43mtup\u001b[49m\u001b[43m[\u001b[49m\u001b[38;5;241;43m0\u001b[39;49m\u001b[43m]\u001b[49m\u001b[38;5;241m=\u001b[39m \u001b[38;5;124m'\u001b[39m\u001b[38;5;124mz\u001b[39m\u001b[38;5;124m'\u001b[39m\n\u001b[0;32m      2\u001b[0m tup\n",
      "\u001b[1;31mTypeError\u001b[0m: 'tuple' object does not support item assignment"
     ]
    }
   ],
   "source": [
    "tup[0]= 'z'\n",
    "tup"
   ]
  },
  {
   "cell_type": "code",
   "execution_count": 25,
   "id": "a981a843",
   "metadata": {},
   "outputs": [
    {
     "data": {
      "text/plain": [
       "('a', 'b', 'c', 'd', 'e')"
      ]
     },
     "execution_count": 25,
     "metadata": {},
     "output_type": "execute_result"
    }
   ],
   "source": [
    "tup += ('e',)\n",
    "tup"
   ]
  },
  {
   "cell_type": "code",
   "execution_count": 26,
   "id": "bb54f69e",
   "metadata": {},
   "outputs": [
    {
     "data": {
      "text/plain": [
       "5"
      ]
     },
     "execution_count": 26,
     "metadata": {},
     "output_type": "execute_result"
    }
   ],
   "source": [
    "len(tup)"
   ]
  },
  {
   "cell_type": "markdown",
   "id": "c548fd19",
   "metadata": {},
   "source": [
    " (iii) Dictionaries:"
   ]
  },
  {
   "cell_type": "code",
   "execution_count": 27,
   "id": "b655b708",
   "metadata": {},
   "outputs": [
    {
     "data": {
      "text/plain": [
       "'EWU'"
      ]
     },
     "execution_count": 27,
     "metadata": {},
     "output_type": "execute_result"
    }
   ],
   "source": [
    "dict = {'b' : 'BUET', 'r' : 'RUET', 'k' : 'KUET', 'e' : 'EWU', 'n' : 'NSU'}\n",
    "dict['e']"
   ]
  },
  {
   "cell_type": "code",
   "execution_count": 28,
   "id": "db70f700",
   "metadata": {},
   "outputs": [
    {
     "data": {
      "text/plain": [
       "{'b': 'BUET', 'r': 'RU', 'k': 'KUET', 'e': 'EWU', 'n': 'NSU'}"
      ]
     },
     "execution_count": 28,
     "metadata": {},
     "output_type": "execute_result"
    }
   ],
   "source": [
    "dict['r'] = 'RU'  # updating a key\n",
    "dict"
   ]
  },
  {
   "cell_type": "code",
   "execution_count": 29,
   "id": "ba47acf7",
   "metadata": {},
   "outputs": [
    {
     "data": {
      "text/plain": [
       "{'b': 'BUET', 'r': 'RU', 'k': 'KUET', 'e': 'EWU', 'n': 'NSU', 'rt': 'RUET'}"
      ]
     },
     "execution_count": 29,
     "metadata": {},
     "output_type": "execute_result"
    }
   ],
   "source": [
    "dict['rt'] = 'RUET'  # adding a key and a string\n",
    "dict"
   ]
  },
  {
   "cell_type": "code",
   "execution_count": 30,
   "id": "3960a31f",
   "metadata": {},
   "outputs": [
    {
     "data": {
      "text/plain": [
       "dict_keys(['b', 'r', 'k', 'e', 'n', 'rt'])"
      ]
     },
     "execution_count": 30,
     "metadata": {},
     "output_type": "execute_result"
    }
   ],
   "source": [
    "dict.keys()  # shows all keys"
   ]
  },
  {
   "cell_type": "code",
   "execution_count": 31,
   "id": "e3146f1e",
   "metadata": {},
   "outputs": [
    {
     "data": {
      "text/plain": [
       "dict_values(['BUET', 'RU', 'KUET', 'EWU', 'NSU', 'RUET'])"
      ]
     },
     "execution_count": 31,
     "metadata": {},
     "output_type": "execute_result"
    }
   ],
   "source": [
    "dict.values()  # shows all values"
   ]
  },
  {
   "cell_type": "markdown",
   "id": "83dfb85d",
   "metadata": {},
   "source": [
    "(iv) Set:"
   ]
  },
  {
   "cell_type": "code",
   "execution_count": 32,
   "id": "a7ac1b86",
   "metadata": {},
   "outputs": [
    {
     "data": {
      "text/plain": [
       "{1, 2, 3, 4, 9}"
      ]
     },
     "execution_count": 32,
     "metadata": {},
     "output_type": "execute_result"
    }
   ],
   "source": [
    "s= {9, 1, 2, 3, 4, 4, 4}\n",
    "s"
   ]
  },
  {
   "cell_type": "code",
   "execution_count": 33,
   "id": "5758c873",
   "metadata": {},
   "outputs": [
    {
     "ename": "TypeError",
     "evalue": "'set' object is not subscriptable",
     "output_type": "error",
     "traceback": [
      "\u001b[1;31m---------------------------------------------------------------------------\u001b[0m",
      "\u001b[1;31mTypeError\u001b[0m                                 Traceback (most recent call last)",
      "Cell \u001b[1;32mIn[33], line 1\u001b[0m\n\u001b[1;32m----> 1\u001b[0m \u001b[43ms\u001b[49m\u001b[43m[\u001b[49m\u001b[38;5;241;43m1\u001b[39;49m\u001b[43m]\u001b[49m\n",
      "\u001b[1;31mTypeError\u001b[0m: 'set' object is not subscriptable"
     ]
    }
   ],
   "source": [
    "s[1]"
   ]
  },
  {
   "cell_type": "markdown",
   "id": "01a7f0fc",
   "metadata": {},
   "source": [
    "(v) String:"
   ]
  },
  {
   "cell_type": "code",
   "execution_count": 1,
   "id": "d95abe62",
   "metadata": {},
   "outputs": [
    {
     "data": {
      "text/plain": [
       "\"Bangladesh is 'LOVE'. I love her.\""
      ]
     },
     "execution_count": 1,
     "metadata": {},
     "output_type": "execute_result"
    }
   ],
   "source": [
    "string = \"Bangladesh is 'LOVE'. I love her.\"\n",
    "string"
   ]
  },
  {
   "cell_type": "code",
   "execution_count": 2,
   "id": "516bf6f5",
   "metadata": {},
   "outputs": [
    {
     "data": {
      "text/plain": [
       "\"Bangladesh is 'LOVE'. I love her.\""
      ]
     },
     "execution_count": 2,
     "metadata": {},
     "output_type": "execute_result"
    }
   ],
   "source": [
    "string = 'Bangladesh is \\'LOVE\\'. I love her.'\n",
    "string"
   ]
  },
  {
   "cell_type": "code",
   "execution_count": 3,
   "id": "cf82858a",
   "metadata": {},
   "outputs": [
    {
     "name": "stdout",
     "output_type": "stream",
     "text": [
      "I am Dipanjan.\n",
      "I love Biriyani.\n"
     ]
    }
   ],
   "source": [
    "print('I am Dipanjan.')\n",
    "print('I love Biriyani.')"
   ]
  },
  {
   "cell_type": "code",
   "execution_count": 4,
   "id": "c74587b8",
   "metadata": {},
   "outputs": [
    {
     "name": "stdout",
     "output_type": "stream",
     "text": [
      "Bangladesh is Love. I love her.\n"
     ]
    }
   ],
   "source": [
    "print(\"Bangladesh is Love.\", end=\" \")\n",
    "print(\"I love her.\")"
   ]
  },
  {
   "cell_type": "code",
   "execution_count": 5,
   "id": "d9c25ee2",
   "metadata": {},
   "outputs": [
    {
     "name": "stdout",
     "output_type": "stream",
     "text": [
      "Bangladesh is Love.\tI love her.\n"
     ]
    }
   ],
   "source": [
    "print(\"Bangladesh is Love.\", end=\"\\t\")\n",
    "print(\"I love her.\")"
   ]
  },
  {
   "cell_type": "code",
   "execution_count": 6,
   "id": "ba913e3c",
   "metadata": {},
   "outputs": [
    {
     "data": {
      "text/plain": [
       "'angla'"
      ]
     },
     "execution_count": 6,
     "metadata": {},
     "output_type": "execute_result"
    }
   ],
   "source": [
    "string[1:6]"
   ]
  },
  {
   "cell_type": "code",
   "execution_count": 7,
   "id": "52f77ce9",
   "metadata": {},
   "outputs": [
    {
     "name": "stdout",
     "output_type": "stream",
     "text": [
      "Area of Bangladesh is:  147570  sq. km.\n"
     ]
    }
   ],
   "source": [
    "n= 147570\n",
    "string_2 = \"Area of Bangladesh is: \"\n",
    "print(string_2, n, ' sq. km.')"
   ]
  },
  {
   "cell_type": "code",
   "execution_count": 8,
   "id": "187c2f1d",
   "metadata": {},
   "outputs": [
    {
     "name": "stdout",
     "output_type": "stream",
     "text": [
      "Area of BD is 147570 sq. km.\n"
     ]
    }
   ],
   "source": [
    "print(f\"Area of BD is {n} sq. km.\")"
   ]
  },
  {
   "cell_type": "code",
   "execution_count": 9,
   "id": "051c152d",
   "metadata": {},
   "outputs": [
    {
     "name": "stdout",
     "output_type": "stream",
     "text": [
      "Area of Bangladesh is: 147570 sq. km.\n"
     ]
    }
   ],
   "source": [
    "print(f\"{string_2}{n} sq. km.\")"
   ]
  },
  {
   "cell_type": "code",
   "execution_count": 10,
   "id": "4cdce41f",
   "metadata": {},
   "outputs": [],
   "source": [
    "s1= 'bangla'\n",
    "s2= 'wash'"
   ]
  },
  {
   "cell_type": "code",
   "execution_count": 13,
   "id": "0dc6cad0",
   "metadata": {},
   "outputs": [
    {
     "data": {
      "text/plain": [
       "'bangla-wash'"
      ]
     },
     "execution_count": 13,
     "metadata": {},
     "output_type": "execute_result"
    }
   ],
   "source": [
    "washed= s1+ '-'+ s2\n",
    "washed"
   ]
  },
  {
   "cell_type": "code",
   "execution_count": 12,
   "id": "a9a08632",
   "metadata": {},
   "outputs": [
    {
     "data": {
      "text/plain": [
       "6"
      ]
     },
     "execution_count": 12,
     "metadata": {},
     "output_type": "execute_result"
    }
   ],
   "source": [
    "len(s1)"
   ]
  },
  {
   "cell_type": "code",
   "execution_count": 14,
   "id": "354fa3df",
   "metadata": {},
   "outputs": [
    {
     "data": {
      "text/plain": [
       "['b', 'ngl', '-w', 'sh']"
      ]
     },
     "execution_count": 14,
     "metadata": {},
     "output_type": "execute_result"
    }
   ],
   "source": [
    "washed.split('a')"
   ]
  },
  {
   "cell_type": "code",
   "execution_count": 15,
   "id": "7c329d31",
   "metadata": {},
   "outputs": [
    {
     "data": {
      "text/plain": [
       "7"
      ]
     },
     "execution_count": 15,
     "metadata": {},
     "output_type": "execute_result"
    }
   ],
   "source": [
    "washed.find(\"wash\")"
   ]
  },
  {
   "cell_type": "code",
   "execution_count": null,
   "id": "29105aca",
   "metadata": {},
   "outputs": [],
   "source": []
  }
 ],
 "metadata": {
  "kernelspec": {
   "display_name": "Python 3 (ipykernel)",
   "language": "python",
   "name": "python3"
  },
  "language_info": {
   "codemirror_mode": {
    "name": "ipython",
    "version": 3
   },
   "file_extension": ".py",
   "mimetype": "text/x-python",
   "name": "python",
   "nbconvert_exporter": "python",
   "pygments_lexer": "ipython3",
   "version": "3.10.8"
  }
 },
 "nbformat": 4,
 "nbformat_minor": 5
}
