{
 "cells": [
  {
   "cell_type": "markdown",
   "id": "5377858f",
   "metadata": {},
   "source": [
    "## Conditional Statement"
   ]
  },
  {
   "cell_type": "code",
   "execution_count": 1,
   "id": "b765732e",
   "metadata": {},
   "outputs": [
    {
     "name": "stdout",
     "output_type": "stream",
     "text": [
      "b\n"
     ]
    }
   ],
   "source": [
    "a= 10\n",
    "b= 50\n",
    "\n",
    "if a > b:\n",
    "    print('a')\n",
    "elif b > a:\n",
    "    print('b')\n",
    "else:\n",
    "    print(\"Equal\")"
   ]
  },
  {
   "cell_type": "markdown",
   "id": "9a52973d",
   "metadata": {},
   "source": [
    "nested if:"
   ]
  },
  {
   "cell_type": "code",
   "execution_count": 2,
   "id": "fea8e0a4",
   "metadata": {},
   "outputs": [
    {
     "name": "stdout",
     "output_type": "stream",
     "text": [
      "b\n"
     ]
    }
   ],
   "source": [
    "c= 15\n",
    "\n",
    "if a>b:\n",
    "    if a>c:\n",
    "        print('a')\n",
    "elif b>c:\n",
    "    print('b')\n",
    "else:\n",
    "    print('c')"
   ]
  },
  {
   "cell_type": "markdown",
   "id": "061a74f1",
   "metadata": {},
   "source": [
    "## Loop"
   ]
  },
  {
   "cell_type": "markdown",
   "id": "09953996",
   "metadata": {},
   "source": [
    "While loop:"
   ]
  },
  {
   "cell_type": "code",
   "execution_count": 3,
   "id": "68c71421",
   "metadata": {},
   "outputs": [
    {
     "name": "stdout",
     "output_type": "stream",
     "text": [
      "1\n",
      "2\n",
      "3\n",
      "4\n",
      "5\n",
      "7\n",
      "8\n",
      "9\n",
      "10\n",
      "Done!\n"
     ]
    }
   ],
   "source": [
    "n=1 \n",
    "\n",
    "while n<= 10:\n",
    "    if n== 6:\n",
    "        n+= 1\n",
    "        continue\n",
    "    print(n)\n",
    "    n+= 1\n",
    "print('Done!')"
   ]
  },
  {
   "cell_type": "code",
   "execution_count": 4,
   "id": "6240de9f",
   "metadata": {},
   "outputs": [
    {
     "name": "stdout",
     "output_type": "stream",
     "text": [
      "0\n",
      "1\n",
      "2\n",
      "3\n",
      "4\n",
      "5\n",
      "Done!\n"
     ]
    }
   ],
   "source": [
    "n=0\n",
    "\n",
    "while n<= 10:\n",
    "    if n== 6:\n",
    "        break\n",
    "    print(n)\n",
    "    n+= 1\n",
    "print('Done!')"
   ]
  },
  {
   "cell_type": "markdown",
   "id": "d1832f08",
   "metadata": {},
   "source": [
    "For loop:"
   ]
  },
  {
   "cell_type": "code",
   "execution_count": 5,
   "id": "cb8117c9",
   "metadata": {},
   "outputs": [
    {
     "name": "stdout",
     "output_type": "stream",
     "text": [
      "0\n",
      "1\n",
      "2\n",
      "3\n",
      "4\n",
      "5\n",
      "6\n",
      "7\n",
      "8\n",
      "9\n"
     ]
    }
   ],
   "source": [
    "for i in range(10):  # range(initialization, condition, post-statement)\n",
    "    print(i)"
   ]
  },
  {
   "cell_type": "code",
   "execution_count": 6,
   "id": "7eb49164",
   "metadata": {},
   "outputs": [
    {
     "name": "stdout",
     "output_type": "stream",
     "text": [
      "5\n",
      "10\n",
      "15\n"
     ]
    }
   ],
   "source": [
    "for i in range(5, 20, 5):\n",
    "    print(i)"
   ]
  },
  {
   "cell_type": "code",
   "execution_count": 7,
   "id": "d0d6d37f",
   "metadata": {},
   "outputs": [
    {
     "name": "stdout",
     "output_type": "stream",
     "text": [
      "4\n",
      "6\n",
      "8\n"
     ]
    }
   ],
   "source": [
    "for i in range(4, 10, 2):\n",
    "    print(i)"
   ]
  },
  {
   "cell_type": "code",
   "execution_count": 8,
   "id": "ad9f6ca1",
   "metadata": {},
   "outputs": [
    {
     "name": "stdout",
     "output_type": "stream",
     "text": [
      "tomato\n",
      "potato\n",
      "pumpkin\n"
     ]
    }
   ],
   "source": [
    "veg = ['tomato', 'potato', 'pumpkin']\n",
    "\n",
    "for v in veg:\n",
    "    print(v)"
   ]
  },
  {
   "cell_type": "code",
   "execution_count": 9,
   "id": "1181dc76",
   "metadata": {},
   "outputs": [
    {
     "name": "stdout",
     "output_type": "stream",
     "text": [
      "apple\n",
      "ball\n",
      "cat\n",
      "dog\n"
     ]
    }
   ],
   "source": [
    "dict = {'a':'apple', 'b':'ball', 'c':'cat', 'd':'dog'}\n",
    "\n",
    "for letter in dict.values():\n",
    "    print(letter)"
   ]
  },
  {
   "cell_type": "code",
   "execution_count": 10,
   "id": "b4df707a",
   "metadata": {},
   "outputs": [
    {
     "name": "stdout",
     "output_type": "stream",
     "text": [
      "a\n",
      "b\n",
      "c\n",
      "d\n"
     ]
    }
   ],
   "source": [
    "for k in dict.keys():\n",
    "    print(k)"
   ]
  },
  {
   "cell_type": "code",
   "execution_count": 11,
   "id": "65893d42",
   "metadata": {},
   "outputs": [
    {
     "name": "stdout",
     "output_type": "stream",
     "text": [
      "10 x 1 = 10\n",
      "10 x 2 = 20\n",
      "10 x 3 = 30\n",
      "10 x 4 = 40\n",
      "10 x 5 = 50\n",
      "10 x 6 = 60\n",
      "10 x 7 = 70\n",
      "10 x 8 = 80\n",
      "10 x 9 = 90\n",
      "10 x 10 = 100\n"
     ]
    }
   ],
   "source": [
    "i= 1\n",
    "j= 10\n",
    "\n",
    "while i<= 10:\n",
    "    print(f\"{j} x {i} = {i*j}\")\n",
    "    i+=1"
   ]
  },
  {
   "cell_type": "code",
   "execution_count": 12,
   "id": "be224cfb",
   "metadata": {},
   "outputs": [
    {
     "name": "stdout",
     "output_type": "stream",
     "text": [
      "10 x 1 = 10\n",
      "10 x 2 = 20\n",
      "10 x 3 = 30\n",
      "10 x 4 = 40\n",
      "10 x 5 = 50\n",
      "10 x 6 = 60\n",
      "10 x 7 = 70\n",
      "10 x 8 = 80\n",
      "10 x 9 = 90\n",
      "10 x 10 = 100\n"
     ]
    }
   ],
   "source": [
    "for namta in range(1, 11, 1):\n",
    "    print(f\"10 x {namta} = {10*namta}\")"
   ]
  },
  {
   "cell_type": "code",
   "execution_count": 14,
   "id": "74c5ace4",
   "metadata": {},
   "outputs": [
    {
     "name": "stdout",
     "output_type": "stream",
     "text": [
      "1\n",
      "3\n",
      "5\n",
      "7\n"
     ]
    }
   ],
   "source": [
    "numbers = [1, 3, 5, 7, 9, 11]\n",
    "flag= 0\n",
    "\n",
    "for n in numbers:\n",
    "    if n<9:\n",
    "        print(n)\n",
    "        flag+=1\n",
    "if flag==0:\n",
    "    print('No nummbers less than 9!')"
   ]
  },
  {
   "cell_type": "markdown",
   "id": "d1da2c93",
   "metadata": {},
   "source": [
    "## Function"
   ]
  },
  {
   "cell_type": "code",
   "execution_count": 15,
   "id": "1839a093",
   "metadata": {},
   "outputs": [],
   "source": [
    "def my_pet(name):\n",
    "    return name"
   ]
  },
  {
   "cell_type": "code",
   "execution_count": 16,
   "id": "2b2002ee",
   "metadata": {},
   "outputs": [
    {
     "data": {
      "text/plain": [
       "'Tommy'"
      ]
     },
     "execution_count": 16,
     "metadata": {},
     "output_type": "execute_result"
    }
   ],
   "source": [
    "my_pet('Tommy')"
   ]
  },
  {
   "cell_type": "code",
   "execution_count": 17,
   "id": "5ac2ffe3",
   "metadata": {},
   "outputs": [
    {
     "data": {
      "text/plain": [
       "'Momo'"
      ]
     },
     "execution_count": 17,
     "metadata": {},
     "output_type": "execute_result"
    }
   ],
   "source": [
    "my_pet('Momo')"
   ]
  },
  {
   "cell_type": "code",
   "execution_count": 18,
   "id": "32353f29",
   "metadata": {},
   "outputs": [],
   "source": [
    "def country():\n",
    "    print('Bangladesh')\n",
    "    print(\"CSA\")"
   ]
  },
  {
   "cell_type": "code",
   "execution_count": 19,
   "id": "d36bc1cb",
   "metadata": {},
   "outputs": [
    {
     "name": "stdout",
     "output_type": "stream",
     "text": [
      "Bangladesh\n",
      "CSA\n"
     ]
    }
   ],
   "source": [
    "country()"
   ]
  },
  {
   "cell_type": "code",
   "execution_count": 20,
   "id": "01458e29",
   "metadata": {},
   "outputs": [
    {
     "data": {
      "text/plain": [
       "'Appa'"
      ]
     },
     "execution_count": 20,
     "metadata": {},
     "output_type": "execute_result"
    }
   ],
   "source": [
    "pet_name = my_pet(\"Appa\")\n",
    "pet_name"
   ]
  },
  {
   "cell_type": "code",
   "execution_count": 21,
   "id": "28970884",
   "metadata": {},
   "outputs": [],
   "source": [
    "def my_food(name, day, flavor):\n",
    "    return name, day, flavor"
   ]
  },
  {
   "cell_type": "code",
   "execution_count": 22,
   "id": "ea6ee76f",
   "metadata": {},
   "outputs": [
    {
     "data": {
      "text/plain": [
       "('Fried Rice', 'Sunday', 'Chicken')"
      ]
     },
     "execution_count": 22,
     "metadata": {},
     "output_type": "execute_result"
    }
   ],
   "source": [
    "my_food('Fried Rice', 'Sunday', 'Chicken')"
   ]
  },
  {
   "cell_type": "code",
   "execution_count": 23,
   "id": "98de63e7",
   "metadata": {},
   "outputs": [
    {
     "data": {
      "text/plain": [
       "'Chocolate'"
      ]
     },
     "execution_count": 23,
     "metadata": {},
     "output_type": "execute_result"
    }
   ],
   "source": [
    "name, day, flavor = my_food('Ice cream', 'Friday', 'Chocolate')\n",
    "flavor"
   ]
  },
  {
   "cell_type": "code",
   "execution_count": 24,
   "id": "c189109d",
   "metadata": {},
   "outputs": [
    {
     "ename": "TypeError",
     "evalue": "my_food() missing 1 required positional argument: 'flavor'",
     "output_type": "error",
     "traceback": [
      "\u001b[1;31m---------------------------------------------------------------------------\u001b[0m",
      "\u001b[1;31mTypeError\u001b[0m                                 Traceback (most recent call last)",
      "Cell \u001b[1;32mIn[24], line 1\u001b[0m\n\u001b[1;32m----> 1\u001b[0m \u001b[43mmy_food\u001b[49m\u001b[43m(\u001b[49m\u001b[38;5;124;43m'\u001b[39;49m\u001b[38;5;124;43mChips\u001b[39;49m\u001b[38;5;124;43m'\u001b[39;49m\u001b[43m,\u001b[49m\u001b[43m \u001b[49m\u001b[38;5;124;43m'\u001b[39;49m\u001b[38;5;124;43mThursday\u001b[39;49m\u001b[38;5;124;43m'\u001b[39;49m\u001b[43m)\u001b[49m\n",
      "\u001b[1;31mTypeError\u001b[0m: my_food() missing 1 required positional argument: 'flavor'"
     ]
    }
   ],
   "source": [
    "my_food('Chips', 'Thursday')"
   ]
  },
  {
   "cell_type": "code",
   "execution_count": 25,
   "id": "bc4a4653",
   "metadata": {},
   "outputs": [],
   "source": [
    "def fav_person(name, age, home= 'Dhaka'):\n",
    "    return name, age, home"
   ]
  },
  {
   "cell_type": "code",
   "execution_count": 26,
   "id": "b5d0a0c9",
   "metadata": {},
   "outputs": [
    {
     "data": {
      "text/plain": [
       "('Barsha', 22, 'Dhaka')"
      ]
     },
     "execution_count": 26,
     "metadata": {},
     "output_type": "execute_result"
    }
   ],
   "source": [
    "fav_person('Barsha', 22)"
   ]
  },
  {
   "cell_type": "code",
   "execution_count": 27,
   "id": "550d44db",
   "metadata": {},
   "outputs": [
    {
     "data": {
      "text/plain": [
       "('Barsha', 22, 'Rajshahi')"
      ]
     },
     "execution_count": 27,
     "metadata": {},
     "output_type": "execute_result"
    }
   ],
   "source": [
    "fav_person('Barsha', 22, 'Rajshahi')"
   ]
  },
  {
   "cell_type": "code",
   "execution_count": 28,
   "id": "b73853b5",
   "metadata": {},
   "outputs": [
    {
     "name": "stdout",
     "output_type": "stream",
     "text": [
      "0\n",
      "25\n",
      "1\n",
      "25\n",
      "2\n",
      "25\n",
      "3\n",
      "25\n",
      "4\n",
      "25\n"
     ]
    }
   ],
   "source": [
    "def numbers(i):\n",
    "    return i\n",
    "\n",
    "for i in range(5):\n",
    "    print(i)\n",
    "    print(numbers(25))"
   ]
  },
  {
   "cell_type": "markdown",
   "id": "e9082e42",
   "metadata": {},
   "source": [
    "Lambda Function:"
   ]
  },
  {
   "cell_type": "code",
   "execution_count": 29,
   "id": "f4e2fee3",
   "metadata": {},
   "outputs": [
    {
     "data": {
      "text/plain": [
       "25"
      ]
     },
     "execution_count": 29,
     "metadata": {},
     "output_type": "execute_result"
    }
   ],
   "source": [
    "def add(a, b):\n",
    "    return a+b\n",
    "\n",
    "sum = add(10, 15)\n",
    "sum"
   ]
  },
  {
   "cell_type": "code",
   "execution_count": 31,
   "id": "cdec8b06",
   "metadata": {},
   "outputs": [
    {
     "data": {
      "text/plain": [
       "25"
      ]
     },
     "execution_count": 31,
     "metadata": {},
     "output_type": "execute_result"
    }
   ],
   "source": [
    "lambda_add = lambda a,b : a+b\n",
    "lambda_add(10, 15)"
   ]
  },
  {
   "cell_type": "markdown",
   "id": "f9c2cac9",
   "metadata": {},
   "source": [
    "Map:"
   ]
  },
  {
   "cell_type": "code",
   "execution_count": 1,
   "id": "881dd6b2",
   "metadata": {},
   "outputs": [
    {
     "data": {
      "text/plain": [
       "[1, 4, 9, 16, 25]"
      ]
     },
     "execution_count": 1,
     "metadata": {},
     "output_type": "execute_result"
    }
   ],
   "source": [
    "lst= [1, 2, 3, 4, 5]\n",
    "square = lambda n : n*n\n",
    "\n",
    "new_lst = map(square, lst)\n",
    "m= list(new_lst)\n",
    "m"
   ]
  },
  {
   "cell_type": "code",
   "execution_count": null,
   "id": "a1e11768",
   "metadata": {},
   "outputs": [],
   "source": []
  }
 ],
 "metadata": {
  "kernelspec": {
   "display_name": "Python 3 (ipykernel)",
   "language": "python",
   "name": "python3"
  },
  "language_info": {
   "codemirror_mode": {
    "name": "ipython",
    "version": 3
   },
   "file_extension": ".py",
   "mimetype": "text/x-python",
   "name": "python",
   "nbconvert_exporter": "python",
   "pygments_lexer": "ipython3",
   "version": "3.10.8"
  }
 },
 "nbformat": 4,
 "nbformat_minor": 5
}
